{
 "cells": [
  {
   "cell_type": "code",
   "execution_count": 1,
   "metadata": {},
   "outputs": [],
   "source": [
    "import requests\n",
    "import re\n",
    "from bs4 import BeautifulSoup\n",
    "from fake_useragent import UserAgent\n",
    "from time import sleep\n",
    "import random\n",
    "import redis\n",
    "import json"
   ]
  },
  {
   "cell_type": "code",
   "execution_count": 19,
   "metadata": {},
   "outputs": [],
   "source": [
    "def get_classfy():\n",
    "    classfy_list = []\n",
    "    url = 'http://www.dianping.com/shenzhen/ch10'\n",
    "    user_agent = UserAgent().random\n",
    "    headers = {'User-Agent': user_agent}\n",
    "    res = requests.get(url, headers=headers)\n",
    "    soup = BeautifulSoup(res.text, 'html')\n",
    "    classfy = soup.find('div', id='classfy')\n",
    "    for i in range(len(classfy.find_all('a'))):\n",
    "        classfy_list.append(int(classfy.find_all('a')[i]['data-cat-id']))\n",
    "    return classfy_list"
   ]
  },
  {
   "cell_type": "code",
   "execution_count": 20,
   "metadata": {
    "scrolled": true
   },
   "outputs": [
    {
     "data": {
      "text/plain": [
       "[112,\n",
       " 117,\n",
       " 103,\n",
       " 111,\n",
       " 132,\n",
       " 113,\n",
       " 110,\n",
       " 116,\n",
       " 219,\n",
       " 251,\n",
       " 508,\n",
       " 114,\n",
       " 102,\n",
       " 1959,\n",
       " 34236,\n",
       " 2714,\n",
       " 34014,\n",
       " 33759,\n",
       " 104,\n",
       " 34055,\n",
       " 25474,\n",
       " 207,\n",
       " 106,\n",
       " 1338,\n",
       " 101,\n",
       " 1783,\n",
       " 26481,\n",
       " 34284,\n",
       " 311,\n",
       " 115,\n",
       " 250,\n",
       " 109,\n",
       " 6743,\n",
       " 34032,\n",
       " 107,\n",
       " 3243,\n",
       " 34059,\n",
       " 118]"
      ]
     },
     "execution_count": 20,
     "metadata": {},
     "output_type": "execute_result"
    }
   ],
   "source": [
    "get_classfy()"
   ]
  },
  {
   "cell_type": "code",
   "execution_count": 27,
   "metadata": {},
   "outputs": [],
   "source": [
    "# 获取各行政区单位id\n",
    "def get_region_list(regionUrl):\n",
    "    region_id_name = []\n",
    "    user_agent = UserAgent().random\n",
    "    headers = {'User-Agent': user_agent}\n",
    "    res = requests.get(regionUrl, headers=headers)\n",
    "    print(res.text)\n",
    "    soup = BeautifulSoup(res.text, 'lxml')\n",
    "    region = soup.find('div', class_='menu sub')\n",
    "    for i in range(1, len(region.find_all('a', class_=\"item Fix\"))):\n",
    "        region_id_name.append(\n",
    "            (int(region.find_all('a')[i]['data-itemid']), str(region.find_all('a')[i]['data-itemname'])))\n",
    "    return region_id_name"
   ]
  },
  {
   "cell_type": "code",
   "execution_count": 28,
   "metadata": {},
   "outputs": [],
   "source": [
    "# 将各个区域串起来\n",
    "def get_all_area_list(regionurlList):\n",
    "    all_area = []\n",
    "    for regionname, regionurl in regionurlList:\n",
    "        region_dict = {}\n",
    "        region_id_name = get_region_list(regionurl)\n",
    "        region_dict[regionname] = region_id_name\n",
    "        all_area.append(region_dict)\n",
    "    return all_area"
   ]
  },
  {
   "cell_type": "code",
   "execution_count": 29,
   "metadata": {},
   "outputs": [],
   "source": [
    "def recostution_url(classfy_list, all_area):\n",
    "    Reurl = []\n",
    "    for classfy in classfy_list:\n",
    "        for data in all_area:\n",
    "            for region, regiondata in data.items():\n",
    "                for area_id, area_name in regiondata:\n",
    "                    Reurl.append((region, area_name, area_id,\n",
    "                                  'http://m.dianping.com/shenzhen/ch10/' + 'g' + str(classfy) + 'r' + str(area_id)))\n",
    "    return Reurl"
   ]
  },
  {
   "cell_type": "code",
   "execution_count": 24,
   "metadata": {},
   "outputs": [],
   "source": [
    "def get_shopContent(Reurl):\n",
    "    user_agent = UserAgent().random\n",
    "    headers = {'User-Agent': user_agent}\n",
    "    res = requests.get(Reurl, headers=headers)\n",
    "    return res.text"
   ]
  },
  {
   "cell_type": "code",
   "execution_count": 31,
   "metadata": {},
   "outputs": [],
   "source": [
    "pingshan = [('pingshan', 'http://www.dianping.com/shenzhen/ch10/r12035')]\n",
    "classfy_list = get_classfy()"
   ]
  },
  {
   "cell_type": "code",
   "execution_count": 34,
   "metadata": {},
   "outputs": [
    {
     "name": "stdout",
     "output_type": "stream",
     "text": [
      "['http://www.dianping.com/shenzhen/ch10/g112r12035', 'http://www.dianping.com/shenzhen/ch10/g117r12035', 'http://www.dianping.com/shenzhen/ch10/g103r12035', 'http://www.dianping.com/shenzhen/ch10/g111r12035', 'http://www.dianping.com/shenzhen/ch10/g132r12035', 'http://www.dianping.com/shenzhen/ch10/g113r12035', 'http://www.dianping.com/shenzhen/ch10/g110r12035', 'http://www.dianping.com/shenzhen/ch10/g116r12035', 'http://www.dianping.com/shenzhen/ch10/g219r12035', 'http://www.dianping.com/shenzhen/ch10/g251r12035', 'http://www.dianping.com/shenzhen/ch10/g508r12035', 'http://www.dianping.com/shenzhen/ch10/g114r12035', 'http://www.dianping.com/shenzhen/ch10/g102r12035', 'http://www.dianping.com/shenzhen/ch10/g1959r12035', 'http://www.dianping.com/shenzhen/ch10/g34236r12035', 'http://www.dianping.com/shenzhen/ch10/g2714r12035', 'http://www.dianping.com/shenzhen/ch10/g34014r12035', 'http://www.dianping.com/shenzhen/ch10/g33759r12035', 'http://www.dianping.com/shenzhen/ch10/g104r12035', 'http://www.dianping.com/shenzhen/ch10/g34055r12035', 'http://www.dianping.com/shenzhen/ch10/g25474r12035', 'http://www.dianping.com/shenzhen/ch10/g207r12035', 'http://www.dianping.com/shenzhen/ch10/g106r12035', 'http://www.dianping.com/shenzhen/ch10/g1338r12035', 'http://www.dianping.com/shenzhen/ch10/g101r12035', 'http://www.dianping.com/shenzhen/ch10/g1783r12035', 'http://www.dianping.com/shenzhen/ch10/g26481r12035', 'http://www.dianping.com/shenzhen/ch10/g34284r12035', 'http://www.dianping.com/shenzhen/ch10/g311r12035', 'http://www.dianping.com/shenzhen/ch10/g115r12035', 'http://www.dianping.com/shenzhen/ch10/g250r12035', 'http://www.dianping.com/shenzhen/ch10/g109r12035', 'http://www.dianping.com/shenzhen/ch10/g6743r12035', 'http://www.dianping.com/shenzhen/ch10/g34032r12035', 'http://www.dianping.com/shenzhen/ch10/g107r12035', 'http://www.dianping.com/shenzhen/ch10/g3243r12035', 'http://www.dianping.com/shenzhen/ch10/g34059r12035', 'http://www.dianping.com/shenzhen/ch10/g118r12035']\n"
     ]
    }
   ],
   "source": [
    "url = []\n",
    "for number in classfy_list:\n",
    "    url.append('http://www.dianping.com/shenzhen/ch10/g' + str(number) + 'r12035')\n",
    "print(url)"
   ]
  },
  {
   "cell_type": "code",
   "execution_count": 42,
   "metadata": {},
   "outputs": [],
   "source": [
    "def get_shopContent(Reurl):\n",
    "    user_agent = UserAgent().random\n",
    "    headers = {'User-Agent': user_agent}\n",
    "    res = requests.get(Reurl, headers=headers)\n",
    "    #print(res.text)\n",
    "    return res.text\n",
    "def get_shopId(Reurl):\n",
    "    resource = get_shopContent(Reurl)\n",
    "    while '验证中心' in resource:\n",
    "        print('出现验证码')\n",
    "        sleep(random.randint(1, 3))\n",
    "        resource = get_shopContent(Reurl)\n",
    "        # 保存网页源码\n",
    "    shopidList = []\n",
    "    soup = BeautifulSoup(resource, 'lxml')\n",
    "    p2 = re.compile(r'{.*}', re.S)\n",
    "    string = soup.find_all('script')[2].string.strip()\n",
    "    string = string.replace('true', 'True')\n",
    "    string = string.replace('false', 'False')\n",
    "    print()\n",
    "    content = eval(re.findall(p2, string)[0])\n",
    "    for adshop in content['mapiSearch']['data']['list']:\n",
    "        shopidList.append(adshop['shopUuid'])\n",
    "    return shopidList"
   ]
  },
  {
   "cell_type": "code",
   "execution_count": 43,
   "metadata": {},
   "outputs": [
    {
     "name": "stdout",
     "output_type": "stream",
     "text": [
      "\n",
      "['131322120', '20661171', '69486987', '130468605', '98400414', '97202024', '19805562', '2929828', '21561953', '132182063', '131747883', '113821775', '131341140', '69790217', '130216551', '8030397', '83590794', '125343751', '75065212', '127752744']\n"
     ]
    }
   ],
   "source": [
    "shopidList = get_shopId('http://m.dianping.com/shenzhen/ch10/g112r12035')\n",
    "print(shopidList)"
   ]
  },
  {
   "cell_type": "code",
   "execution_count": null,
   "metadata": {},
   "outputs": [],
   "source": []
  }
 ],
 "metadata": {
  "kernelspec": {
   "display_name": "Python 3",
   "language": "python",
   "name": "python3"
  },
  "language_info": {
   "codemirror_mode": {
    "name": "ipython",
    "version": 3
   },
   "file_extension": ".py",
   "mimetype": "text/x-python",
   "name": "python",
   "nbconvert_exporter": "python",
   "pygments_lexer": "ipython3",
   "version": "3.7.1"
  }
 },
 "nbformat": 4,
 "nbformat_minor": 2
}
