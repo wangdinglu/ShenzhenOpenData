{
 "cells": [
  {
   "cell_type": "code",
   "execution_count": 1,
   "metadata": {},
   "outputs": [],
   "source": [
    "import xlrd\n",
    "ServicePath = xlrd.open_workbook(\"WebData/PingshanDemand.xlsx\")\n",
    "ServiceData = ServicePath.sheet_by_name(\"Pingshan\")"
   ]
  },
  {
   "cell_type": "code",
   "execution_count": 2,
   "metadata": {},
   "outputs": [],
   "source": [
    "import pymongo\n",
    "from pymongo import MongoClient"
   ]
  },
  {
   "cell_type": "code",
   "execution_count": 51,
   "metadata": {},
   "outputs": [],
   "source": [
    "import datetime"
   ]
  },
  {
   "cell_type": "code",
   "execution_count": 99,
   "metadata": {},
   "outputs": [],
   "source": [
    "import matplotlib.pyplot as plt\n",
    "from matplotlib.font_manager import FontManager\n",
    "plt.rcParams['font.sans-serif'] = ['SimHei']    # 指定默认字体\n",
    "plt.rcParams['axes.unicode_minus'] = False          # 解决保存图像是负号'-'显示为方块的问题"
   ]
  },
  {
   "cell_type": "code",
   "execution_count": 45,
   "metadata": {},
   "outputs": [],
   "source": [
    "def countType(name, need):\n",
    "    typeList = []\n",
    "    typeNumber = {}\n",
    "    for info in col.find(need):\n",
    "        if not typeList.__contains__(info[name]):\n",
    "            typeList.append(info[name])\n",
    "            typeNumber[info[name]] = 1\n",
    "        else:\n",
    "            typeNumber[info[name]] = typeNumber[info[name]] + 1\n",
    "    return typeNumber"
   ]
  },
  {
   "cell_type": "code",
   "execution_count": 122,
   "metadata": {},
   "outputs": [
    {
     "name": "stdout",
     "output_type": "stream",
     "text": [
      "Number of type535\n",
      "9736 坪山街道\n",
      "8756 龙田街道\n",
      "7521 坑梓街道\n",
      "4616 马峦街道\n",
      "3605 碧岭街道\n",
      "1591 石井街道\n",
      "75 \n"
     ]
    }
   ],
   "source": [
    "# need = {'EVENT_TYPE_NAME':'市容环卫','STREET_NAME':'龙田街道'}\n",
    "# need = {'EVENT_TYPE_NAME':'交通运输'}\n",
    "need = {}\n",
    "values = []\n",
    "communties = []\n",
    "# need = {}\n",
    "sorted_x = sorted(countType('STREET_NAME', need).items(), key=lambda kv:(kv[1], kv[0]), reverse=True)\n",
    "# sorted_x = sorted(countType('EVENT_TYPE_NAME', need).items(), key=lambda kv:(kv[1], kv[0]), reverse=True)\n",
    "print('Number of type' + str(len(typeList.keys())))\n",
    "for t in sorted_x:\n",
    "    communties.append(t[0])\n",
    "    values.append(t[1])\n",
    "    print(str(t[1]) + ' ' + t[0])"
   ]
  },
  {
   "cell_type": "code",
   "execution_count": 123,
   "metadata": {},
   "outputs": [
    {
     "data": {
      "image/png": "[encoded data removed]",
      "text/plain": [
       "<Figure size 576x576 with 1 Axes>"
      ]
     },
     "metadata": {
      "needs_background": "light"
     },
     "output_type": "display_data"
    }
   ],
   "source": [
    "plt.figure(figsize=(8,8))\n",
    "plt.bar(np.arange(len(values)),values,width=.6)\n",
    "plt.xticks(np.arange(len(values)),communties)\n",
    "plt.title(\"社区环境\",fontsize = 10)\n",
    "plt.show()"
   ]
  }
 ],
 "metadata": {
  "kernelspec": {
   "display_name": "Python 3",
   "language": "python",
   "name": "python3"
  },
  "language_info": {
   "codemirror_mode": {
    "name": "ipython",
    "version": 3
   },
   "file_extension": ".py",
   "mimetype": "text/x-python",
   "name": "python",
   "nbconvert_exporter": "python",
   "pygments_lexer": "ipython3",
   "version": "3.7.1"
  }
 },
 "nbformat": 4,
 "nbformat_minor": 2
}
