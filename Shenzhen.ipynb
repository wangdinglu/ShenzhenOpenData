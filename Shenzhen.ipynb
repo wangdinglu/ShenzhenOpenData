{
 "cells": [
  {
   "cell_type": "code",
   "execution_count": 1,
   "metadata": {},
   "outputs": [],
   "source": [
    "import xlrd\n",
    "ServicePath = xlrd.open_workbook(\"WebData/PingshanDemand.xlsx\")\n",
    "ServiceData = ServicePath.sheet_by_name(\"Pingshan\")"
   ]
  },
  {
   "cell_type": "code",
   "execution_count": 2,
   "metadata": {},
   "outputs": [],
   "source": [
    "import pymongo\n",
    "from pymongo import MongoClient"
   ]
  },
  {
   "cell_type": "code",
   "execution_count": 51,
   "metadata": {},
   "outputs": [],
   "source": [
    "import datetime"
   ]
  },
  {
   "cell_type": "code",
   "execution_count": 99,
   "metadata": {},
   "outputs": [],
   "source": [
    "import matplotlib.pyplot as plt\n",
    "from matplotlib.font_manager import FontManager\n",
    "plt.rcParams['font.sans-serif'] = ['SimHei']    # 指定默认字体\n",
    "plt.rcParams['axes.unicode_minus'] = False          # 解决保存图像是负号'-'显示为方块的问题"
   ]
  },
  {
   "cell_type": "code",
   "execution_count": 45,
   "metadata": {},
   "outputs": [],
   "source": [
    "def countType(name, need):\n",
    "    typeList = []\n",
    "    typeNumber = {}\n",
    "    for info in col.find(need):\n",
    "        if not typeList.__contains__(info[name]):\n",
    "            typeList.append(info[name])\n",
    "            typeNumber[info[name]] = 1\n",
    "        else:\n",
    "            typeNumber[info[name]] = typeNumber[info[name]] + 1\n",
    "    return typeNumber"
   ]
  },
  {
   "cell_type": "code",
   "execution_count": 177,
   "metadata": {},
   "outputs": [
    {
     "name": "stdout",
     "output_type": "stream",
     "text": [
      "Number of type5\n",
      "1262 公共交通管理\n",
      "318 道路规划建设\n",
      "2 道路和公路交通安全\n",
      "7 网约车管理\n",
      "1 快递市场管理\n"
     ]
    }
   ],
   "source": [
    "need = {'EVENT_TYPE_NAME':'交通运输'}\n",
    "# need = {'SUB_TYPE_NAME':'下水井盖'}\n",
    "typeList = countType('SUB_TYPE_NAME', need)\n",
    "print('Number of type' + str(len(typeList.keys())))\n",
    "for t in typeList:\n",
    "    print(str(typeList[t]) + ' ' + t)"
   ]
  },
  {
   "cell_type": "code",
   "execution_count": 196,
   "metadata": {},
   "outputs": [
    {
     "name": "stdout",
     "output_type": "stream",
     "text": [
      "党纪政纪 200\n",
      "13 住房和建设局\n",
      "12 教育局\n",
      "12 卫生和计划生育局\n",
      "11 人力资源局\n",
      "10 市交警支队坪山大队\n",
      "9 南布社区\n",
      "8 规划土地监察大队\n",
      "8 区委（区政府）办公室\n",
      "7 环境保护和水务局\n",
      "7 城管办（坑梓街道办事处）\n",
      "6 综治维稳办公室（坪山街道办事处）\n",
      "6 坪山公安分局\n",
      "5 龙田街道综合执法队\n",
      "4 马峦办事处综合执法队\n",
      "4 群团工作部\n",
      "4 区指挥中心处置\n",
      "4 \n",
      "3 经济和科技促进局\n",
      "3 纪律检查工作委员会（马峦街道办事处）\n",
      "3 纪工委（坑梓街道办事处）\n",
      "3 竹坑社区\n",
      "3 城市管理局\n",
      "3 坪环社区（马峦街道办事处）\n",
      "3 坪山区机关事务管理中心\n",
      "3 区委政法委\n",
      "2 纪律检查工作委员会（坪山街道办事处）\n",
      "2 石井办事处综合执法队（石井街道办事处）\n",
      "2 建筑工务局\n",
      "2 市政服务中心（坪山街道办事处）\n",
      "2 市政服务中心（坑梓街道办事处）\n",
      "2 坪山街道综合执法队\n",
      "2 区指挥中心\n",
      "2 值班应急与智慧管理指挥分中心（龙田街道办事处）\n",
      "1 马峦办事处综合执法队（马峦街道办事处）\n",
      "1 综治维稳办公室（马峦街道办事处）\n",
      "1 竹坑社区（龙田街道办事处）\n",
      "1 碧岭社区（碧岭街道办事处）\n",
      "1 石井社区工作站\n",
      "1 环境水政监察二中队\n",
      "1 消防安全管理委员会办公室（马峦街道办事处）\n",
      "1 沙田社区（坑梓街道办事处）\n",
      "1 沙湖社区\n",
      "1 江岭社区\n",
      "1 机关事务管理局\n",
      "1 市规划和自然资源局坪山管理局\n",
      "1 市政服务中心（龙田街道办事处）\n",
      "1 市市场和质量监管委坪山局\n",
      "1 安监办（坑梓街道办事处）\n",
      "1 坪山自来水有限公司\n",
      "1 坪山社区（坪山街道办事处）\n",
      "1 坪山社区\n",
      "1 坪山交通运输局\n",
      "1 土地整备中心（碧岭办）\n",
      "1 土地整备中心（石井街道办事处）\n",
      "1 和平社区（坪山街道办事处）\n",
      "1 和平社区\n",
      "1 区委组织部\n",
      "1 区委宣传部（文体旅游局）\n",
      "1 劳动办（龙田街道办事处）\n",
      "1 办公室（坪山街道办事处）\n",
      "1 六联社区\n",
      "1 公共服务办\n",
      "1 人民武装部（马峦街道办事处）\n"
     ]
    }
   ],
   "source": [
    "et = '党纪政纪'\n",
    "need = {'EVENT_TYPE_NAME': et}\n",
    "values = []\n",
    "communties = []\n",
    "total = 0\n",
    "# need = {}\n",
    "sorted_x = sorted(countType('DISPOSE_UNIT_NAME', need).items(), key=lambda kv:(kv[1], kv[0]), reverse=True)\n",
    "# sorted_x = sorted(countType('EVENT_TYPE_NAME', need).items(), key=lambda kv:(kv[1], kv[0]), reverse=True)\n",
    "\n",
    "for t in sorted_x:\n",
    "    total = total + t[1]\n",
    "print(et + ' '+ str(total))\n",
    "for t in sorted_x:\n",
    "#     if 100*t[1] > total:\n",
    "#         print(str(t[1]) + ' ' + t[0])\n",
    "    print(str(t[1]) + ' ' + t[0])"
   ]
  },
  {
   "cell_type": "code",
   "execution_count": 138,
   "metadata": {},
   "outputs": [
    {
     "name": "stdout",
     "output_type": "stream",
     "text": [
      "Number of type59\n",
      "9736 坪山街道\n",
      "8756 龙田街道\n",
      "7521 坑梓街道\n",
      "4616 马峦街道\n",
      "3605 碧岭街道\n",
      "1591 石井街道\n",
      "75 \n"
     ]
    }
   ],
   "source": [
    "# need = {'EVENT_TYPE_NAME':'市容环卫','STREET_NAME':'龙田街道'}\n",
    "# need = {'EVENT_TYPE_NAME':'交通运输'}\n",
    "need = {}\n",
    "values = []\n",
    "communties = []\n",
    "# need = {}\n",
    "sorted_x = sorted(countType('STREET_NAME', need).items(), key=lambda kv:(kv[1], kv[0]), reverse=True)\n",
    "# sorted_x = sorted(countType('EVENT_TYPE_NAME', need).items(), key=lambda kv:(kv[1], kv[0]), reverse=True)\n",
    "print('Number of type' + str(len(typeList.keys())))\n",
    "for t in sorted_x:\n",
    "    communties.append(t[0])\n",
    "    values.append(t[1])\n",
    "    print(str(t[1]) + ' ' + t[0])"
   ]
  },
  {
   "cell_type": "code",
   "execution_count": 125,
   "metadata": {},
   "outputs": [
    {
     "data": {
      "image/png": "[encoded data removed]",
      "text/plain": [
       "<Figure size 576x576 with 1 Axes>"
      ]
     },
     "metadata": {
      "needs_background": "light"
     },
     "output_type": "display_data"
    }
   ],
   "source": [
    "plt.figure(figsize=(8,8))\n",
    "plt.bar(np.arange(len(values)),values,width=.6)\n",
    "plt.xticks(np.arange(len(values)),communties)\n",
    "plt.title(\"街道数据\",fontsize = 10)\n",
    "plt.show()"
   ]
  }
 ],
 "metadata": {
  "kernelspec": {
   "display_name": "Python 3",
   "language": "python",
   "name": "python3"
  },
  "language_info": {
   "codemirror_mode": {
    "name": "ipython",
    "version": 3
   },
   "file_extension": ".py",
   "mimetype": "text/x-python",
   "name": "python",
   "nbconvert_exporter": "python",
   "pygments_lexer": "ipython3",
   "version": "3.7.1"
  }
 },
 "nbformat": 4,
 "nbformat_minor": 2
}
